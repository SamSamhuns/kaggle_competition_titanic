{
 "cells": [
  {
   "cell_type": "markdown",
   "metadata": {},
   "source": [
    "# <a href='https://www.kaggle.com/c/titanic/overview'>Titanic Survival</a>\n",
    "## Kaggle machine learning competition\n",
    "### Supervised learning for binary classification\n",
    "\n",
    "__Competition Description__\n",
    "\n",
    "The sinking of the RMS Titanic is one of the most infamous shipwrecks in history.  On April 15, 1912, during her maiden voyage, the Titanic sank after colliding with an iceberg, killing 1502 out of 2224 passengers and crew. This sensational tragedy shocked the international community and led to better safety regulations for ships.\n",
    "\n",
    "One of the reasons that the shipwreck led to such loss of life was that there were not enough lifeboats for the passengers and crew. Although there was some element of luck involved in surviving the sinking, some groups of people were more likely to survive than others, such as women, children, and the upper-class.\n",
    "\n",
    "In this challenge, we ask you to complete the analysis of what sorts of people were likely to survive. In particular, we ask you to apply the tools of machine learning to predict which passengers survived the tragedy."
   ]
  },
  {
   "cell_type": "code",
   "execution_count": 68,
   "metadata": {},
   "outputs": [],
   "source": [
    "import csv\n",
    "import numpy as np\n",
    "import utility as util\n",
    "import matplotlib as mpl\n",
    "import matplotlib.pyplot as plt\n",
    "plt.style.use('seaborn-darkgrid')\n",
    "%config InlineBackend.figure_format='retina'\n",
    "%matplotlib inline"
   ]
  },
  {
   "cell_type": "markdown",
   "metadata": {},
   "source": [
    "## Importing our data"
   ]
  },
  {
   "cell_type": "code",
   "execution_count": 70,
   "metadata": {},
   "outputs": [
    {
     "name": "stdout",
     "output_type": "stream",
     "text": [
      "Header for data/train.csv data is ['PassengerId', 'Survived', 'Pclass', 'Name', 'Sex', 'Age', 'SibSp', 'Parch', 'Ticket', 'Fare', 'Cabin', 'Embarked']\n",
      "Header for data/test.csv data is ['PassengerId', 'Pclass', 'Name', 'Sex', 'Age', 'SibSp', 'Parch', 'Ticket', 'Fare', 'Cabin', 'Embarked']\n",
      "Header for data/gender_submission.csv data is ['PassengerId', 'Survived']\n"
     ]
    }
   ],
   "source": [
    "def import_and_chk_consistency(filepath):\n",
    "    with open(filepath, newline='') as csvfile:\n",
    "        data_vector = []\n",
    "        data_reader = csv.reader(csvfile, delimiter=',', quotechar='\"')\n",
    "        header = next(data_reader)\n",
    "        header_len = len(header)\n",
    "        print(f\"Header for {filepath} data is {header}\")\n",
    "        for row in data_reader:\n",
    "            if len(row) != header_len:\n",
    "                print(\"Line count does not match. Skipping row.\")\n",
    "                continue\n",
    "            data_vector.append(row)\n",
    "            \n",
    "        return np.array(data_vector)\n",
    "train_data = import_and_chk_consistency('data/train.csv')\n",
    "test_data = import_and_chk_consistency('data/test.csv')\n",
    "result_data_example = import_and_chk_consistency('data/gender_submission.csv')"
   ]
  },
  {
   "cell_type": "code",
   "execution_count": null,
   "metadata": {},
   "outputs": [],
   "source": []
  }
 ],
 "metadata": {
  "kernelspec": {
   "display_name": "Python 3",
   "language": "python",
   "name": "python3"
  },
  "language_info": {
   "codemirror_mode": {
    "name": "ipython",
    "version": 3
   },
   "file_extension": ".py",
   "mimetype": "text/x-python",
   "name": "python",
   "nbconvert_exporter": "python",
   "pygments_lexer": "ipython3",
   "version": "3.7.1"
  }
 },
 "nbformat": 4,
 "nbformat_minor": 2
}
